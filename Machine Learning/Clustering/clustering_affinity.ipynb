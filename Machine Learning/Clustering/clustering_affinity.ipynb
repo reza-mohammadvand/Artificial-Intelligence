{
 "cells": [
  {
   "cell_type": "code",
   "execution_count": 1,
   "metadata": {},
   "outputs": [],
   "source": [
    "import matplotlib.pyplot as plt  \n",
    "import pandas as pd  \n",
    "%matplotlib inline\n",
    "import numpy as np\n",
    "from sklearn.cluster import AgglomerativeClustering"
   ]
  },
  {
   "cell_type": "code",
   "execution_count": 2,
   "metadata": {},
   "outputs": [],
   "source": [
    "X = np.array([  [10,5],  \n",
    "                [20,2],\n",
    "                [30,3],\n",
    "                [70,4],\n",
    "                [80,2],\n",
    "                [90,6],\n",
    "                [100,3],\n",
    "             ])"
   ]
  },
  {
   "cell_type": "code",
   "execution_count": 3,
   "metadata": {},
   "outputs": [],
   "source": [
    "cluster = AgglomerativeClustering(n_clusters=2, affinity='euclidean', linkage='ward')  \n",
    "#cluster = AgglomerativeClustering(n_clusters=2, affinity='euclidean', linkage='single')  \n",
    "#cluster = AgglomerativeClustering(n_clusters=2, affinity='euclidean', linkage='average')  \n",
    "#cluster = AgglomerativeClustering(n_clusters=2, affinity='euclidean', linkage='complete')  "
   ]
  },
  {
   "cell_type": "code",
   "execution_count": 4,
   "metadata": {},
   "outputs": [],
   "source": [
    "# Ward can only work with euclidean distances."
   ]
  },
  {
   "cell_type": "code",
   "execution_count": 5,
   "metadata": {},
   "outputs": [],
   "source": [
    "#cluster = AgglomerativeClustering(n_clusters=2, affinity='manhattan', linkage='single')  \n",
    "#cluster = AgglomerativeClustering(n_clusters=2, affinity='manhattan', linkage='average')  \n",
    "#cluster = AgglomerativeClustering(n_clusters=2, affinity='manhattan', linkage='average')  "
   ]
  },
  {
   "cell_type": "code",
   "execution_count": 6,
   "metadata": {},
   "outputs": [
    {
     "name": "stderr",
     "output_type": "stream",
     "text": [
      "c:\\Users\\REZA\\anaconda3\\Lib\\site-packages\\sklearn\\cluster\\_agglomerative.py:983: FutureWarning: Attribute `affinity` was deprecated in version 1.2 and will be removed in 1.4. Use `metric` instead\n",
      "  warnings.warn(\n"
     ]
    }
   ],
   "source": [
    "cluster.fit_predict(X);  "
   ]
  },
  {
   "cell_type": "code",
   "execution_count": 7,
   "metadata": {},
   "outputs": [
    {
     "data": {
      "text/plain": [
       "array([1, 1, 1, 0, 0, 0, 0], dtype=int64)"
      ]
     },
     "execution_count": 7,
     "metadata": {},
     "output_type": "execute_result"
    }
   ],
   "source": [
    "cluster.labels_"
   ]
  },
  {
   "cell_type": "code",
   "execution_count": 8,
   "metadata": {},
   "outputs": [
    {
     "data": {
      "image/png": "[encoded data removed]",
      "text/plain": [
       "<Figure size 640x480 with 1 Axes>"
      ]
     },
     "metadata": {},
     "output_type": "display_data"
    }
   ],
   "source": [
    "plt.scatter(X[:,0],X[:,1], c=cluster.labels_, cmap='rainbow') ; "
   ]
  },
  {
   "cell_type": "code",
   "execution_count": null,
   "metadata": {},
   "outputs": [],
   "source": []
  },
  {
   "cell_type": "markdown",
   "metadata": {},
   "source": [
    "affinity : \n",
    "    string or callable, default: “euclidean”\n",
    "    Metric used to compute the linkage. \n",
    "    Can be “euclidean”, “l1”, “l2”, “manhattan”, “cosine”, or “precomputed”. \n",
    "    If linkage is “ward”, only “euclidean” is accepted. \n",
    "    If “precomputed”, a distance matrix (instead of a similarity matrix) is needed as input \n",
    "    for the fit method."
   ]
  },
  {
   "cell_type": "markdown",
   "metadata": {},
   "source": [
    "inkage : \n",
    "    {“ward”, “complete”, “single”, “average”}, optional (default=”ward”)\n",
    "    The linkage criterion determines which distance to use between sets of observation. \n",
    "    The algorithm will merge the pairs of cluster that minimize this criterion.\n",
    "    ward minimizes the variance of the clusters being merged.\n",
    "    complete or maximum linkage uses the maximum distances between all observations of the two sets.\n",
    "    single uses the minimum of the distances between all observations of the two sets.\n",
    "    average uses the average of the distances of each observation of the two sets.\n"
   ]
  }
 ],
 "metadata": {
  "kernelspec": {
   "display_name": "Python 3",
   "language": "python",
   "name": "python3"
  },
  "language_info": {
   "codemirror_mode": {
    "name": "ipython",
    "version": 3
   },
   "file_extension": ".py",
   "mimetype": "text/x-python",
   "name": "python",
   "nbconvert_exporter": "python",
   "pygments_lexer": "ipython3",
   "version": "3.11.7"
  }
 },
 "nbformat": 4,
 "nbformat_minor": 2
}
