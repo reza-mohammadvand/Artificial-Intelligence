{
 "cells": [
  {
   "cell_type": "code",
   "execution_count": 1,
   "metadata": {},
   "outputs": [],
   "source": [
    "from sklearn.neural_network import MLPClassifier"
   ]
  },
  {
   "cell_type": "code",
   "execution_count": 2,
   "metadata": {},
   "outputs": [],
   "source": [
    "import numpy as np "
   ]
  },
  {
   "cell_type": "code",
   "execution_count": 3,
   "metadata": {},
   "outputs": [],
   "source": [
    "X_train = np.array( [[ 1 , 1], [3 , 3],[ 6 , 6], [ 7 , 7], [ 9 , 9]] )\n",
    "y_train = np.array([0,0,1,1,1])"
   ]
  },
  {
   "cell_type": "code",
   "execution_count": 4,
   "metadata": {},
   "outputs": [],
   "source": [
    "model = MLPClassifier(hidden_layer_sizes=(8) , max_iter=110 , alpha=1e-4, solver='sgd', random_state=1 \n",
    "                     ,verbose=True , learning_rate_init=.1 )"
   ]
  },
  {
   "cell_type": "code",
   "execution_count": 5,
   "metadata": {},
   "outputs": [
    {
     "name": "stdout",
     "output_type": "stream",
     "text": [
      "Iteration 1, loss = 0.77242729\n",
      "Iteration 2, loss = 0.68148155\n",
      "Iteration 3, loss = 0.62225463\n",
      "Iteration 4, loss = 0.59184064\n",
      "Iteration 5, loss = 0.55574346\n",
      "Iteration 6, loss = 0.52604574\n",
      "Iteration 7, loss = 0.49736578\n",
      "Iteration 8, loss = 0.46831510\n",
      "Iteration 9, loss = 0.43823781\n",
      "Iteration 10, loss = 0.40642844\n",
      "Iteration 11, loss = 0.37520567\n",
      "Iteration 12, loss = 0.34415212\n",
      "Iteration 13, loss = 0.31474519\n",
      "Iteration 14, loss = 0.28753417\n",
      "Iteration 15, loss = 0.26192975\n",
      "Iteration 16, loss = 0.23746029\n",
      "Iteration 17, loss = 0.21458947\n",
      "Iteration 18, loss = 0.19340743\n",
      "Iteration 19, loss = 0.17390211\n",
      "Iteration 20, loss = 0.15610620\n",
      "Iteration 21, loss = 0.13998697\n",
      "Iteration 22, loss = 0.12547184\n",
      "Iteration 23, loss = 0.11246640\n",
      "Iteration 24, loss = 0.10086182\n",
      "Iteration 25, loss = 0.09054159\n",
      "Iteration 26, loss = 0.08138709\n",
      "Iteration 27, loss = 0.07328203\n",
      "Iteration 28, loss = 0.06611547\n",
      "Iteration 29, loss = 0.05978374\n",
      "Iteration 30, loss = 0.05419142\n",
      "Iteration 31, loss = 0.04925177\n",
      "Iteration 32, loss = 0.04488671\n",
      "Iteration 33, loss = 0.04102646\n",
      "Iteration 34, loss = 0.03760912\n",
      "Iteration 35, loss = 0.03457998\n",
      "Iteration 36, loss = 0.03189096\n",
      "Iteration 37, loss = 0.02949987\n",
      "Iteration 38, loss = 0.02736983\n",
      "Iteration 39, loss = 0.02546864\n",
      "Iteration 40, loss = 0.02376823\n",
      "Iteration 41, loss = 0.02224415\n",
      "Iteration 42, loss = 0.02087509\n",
      "Iteration 43, loss = 0.01964253\n",
      "Iteration 44, loss = 0.01853030\n",
      "Iteration 45, loss = 0.01752436\n",
      "Iteration 46, loss = 0.01661242\n",
      "Iteration 47, loss = 0.01578378\n",
      "Iteration 48, loss = 0.01502908\n",
      "Iteration 49, loss = 0.01434014\n",
      "Iteration 50, loss = 0.01370978\n",
      "Iteration 51, loss = 0.01313171\n",
      "Iteration 52, loss = 0.01260040\n",
      "Iteration 53, loss = 0.01211099\n",
      "Iteration 54, loss = 0.01165919\n",
      "Iteration 55, loss = 0.01124121\n",
      "Iteration 56, loss = 0.01085371\n",
      "Iteration 57, loss = 0.01049371\n",
      "Iteration 58, loss = 0.01015859\n",
      "Iteration 59, loss = 0.00984601\n",
      "Iteration 60, loss = 0.00955388\n",
      "Iteration 61, loss = 0.00928035\n",
      "Iteration 62, loss = 0.00902376\n",
      "Iteration 63, loss = 0.00878263\n",
      "Iteration 64, loss = 0.00855563\n",
      "Iteration 65, loss = 0.00834156\n",
      "Iteration 66, loss = 0.00813935\n",
      "Iteration 67, loss = 0.00794804\n",
      "Iteration 68, loss = 0.00776676\n",
      "Iteration 69, loss = 0.00759472\n",
      "Iteration 70, loss = 0.00743122\n",
      "Iteration 71, loss = 0.00727560\n",
      "Iteration 72, loss = 0.00712729\n",
      "Iteration 73, loss = 0.00698576\n",
      "Iteration 74, loss = 0.00685053\n",
      "Iteration 75, loss = 0.00672115\n",
      "Iteration 76, loss = 0.00659723\n",
      "Iteration 77, loss = 0.00647841\n",
      "Iteration 78, loss = 0.00636434\n",
      "Iteration 79, loss = 0.00625473\n",
      "Iteration 80, loss = 0.00614930\n",
      "Iteration 81, loss = 0.00604778\n",
      "Iteration 82, loss = 0.00594995\n",
      "Iteration 83, loss = 0.00585559\n",
      "Iteration 84, loss = 0.00576449\n",
      "Iteration 85, loss = 0.00567647\n",
      "Iteration 86, loss = 0.00559136\n",
      "Iteration 87, loss = 0.00550901\n",
      "Iteration 88, loss = 0.00542926\n",
      "Iteration 89, loss = 0.00535198\n",
      "Iteration 90, loss = 0.00527705\n",
      "Iteration 91, loss = 0.00520435\n",
      "Iteration 92, loss = 0.00513378\n",
      "Training loss did not improve more than tol=0.000100 for 10 consecutive epochs. Stopping.\n"
     ]
    }
   ],
   "source": [
    "model.fit(X_train, y_train);"
   ]
  },
  {
   "cell_type": "code",
   "execution_count": 6,
   "metadata": {},
   "outputs": [
    {
     "data": {
      "text/plain": [
       "1.0"
      ]
     },
     "execution_count": 6,
     "metadata": {},
     "output_type": "execute_result"
    }
   ],
   "source": [
    "model.score(X_train, y_train)"
   ]
  },
  {
   "cell_type": "code",
   "execution_count": 7,
   "metadata": {},
   "outputs": [],
   "source": [
    "X_test = np.array( [[ 2 , 2] , [ 0 , 0], [ 11 , 11]] )\n",
    "y_test = np.array ([0 , 0 , 1])"
   ]
  },
  {
   "cell_type": "code",
   "execution_count": 8,
   "metadata": {},
   "outputs": [
    {
     "data": {
      "text/plain": [
       "array([0, 0, 1])"
      ]
     },
     "execution_count": 8,
     "metadata": {},
     "output_type": "execute_result"
    }
   ],
   "source": [
    "y_pred = model.predict(X_test)\n",
    "y_pred"
   ]
  },
  {
   "cell_type": "code",
   "execution_count": 9,
   "metadata": {},
   "outputs": [
    {
     "data": {
      "text/plain": [
       "1.0"
      ]
     },
     "execution_count": 9,
     "metadata": {},
     "output_type": "execute_result"
    }
   ],
   "source": [
    "model.score(X_test, y_test)"
   ]
  },
  {
   "cell_type": "code",
   "execution_count": null,
   "metadata": {},
   "outputs": [],
   "source": []
  },
  {
   "cell_type": "code",
   "execution_count": null,
   "metadata": {},
   "outputs": [],
   "source": []
  },
  {
   "cell_type": "code",
   "execution_count": null,
   "metadata": {},
   "outputs": [],
   "source": []
  },
  {
   "cell_type": "code",
   "execution_count": 10,
   "metadata": {},
   "outputs": [
    {
     "data": {
      "text/plain": [
       "'\\nalpha : \\n           float, optional, default 0.0001\\n           L2 penalty (regularization term) parameter.\\n\\n\\nverbose : \\n           bool, optional, default False\\n           Whether to print progress messages to stdout.\\n\\n\\nmax_iter :  \\n           int, optional, default 200\\n           Maximum number of iterations. \\n           The solver iterates until convergence (determined by ‘tol’) or this number of iterations. \\n           For stochastic solvers (‘sgd’, ‘adam’), \\n           note that this determines the number of epochs (how many times each data point will be used), \\n           not the number of gradient steps\\n\\n\\nlearning_rate_init : \\n        double, optional, default 0.001\\n        The initial learning rate used. It controls the step-size in updating the weights. \\n        Only used when solver=’sgd’ or ‘adam’.\\n\\n\\ntol : \\n      float, optional, default 1e-4\\n      Tolerance for the optimization. \\n      When the loss or score is not improving by at least tol for n_iter_no_change consecutive iterations, \\n      unless learning_rate is set to ‘adaptive’, convergence is considered to be reached and training stops.\\n'"
      ]
     },
     "execution_count": 10,
     "metadata": {},
     "output_type": "execute_result"
    }
   ],
   "source": [
    "'''\n",
    "alpha : \n",
    "           float, optional, default 0.0001\n",
    "           L2 penalty (regularization term) parameter.\n",
    "\n",
    "\n",
    "verbose : \n",
    "           bool, optional, default False\n",
    "           Whether to print progress messages to stdout.\n",
    "\n",
    "\n",
    "max_iter :  \n",
    "           int, optional, default 200\n",
    "           Maximum number of iterations. \n",
    "           The solver iterates until convergence (determined by ‘tol’) or this number of iterations. \n",
    "           For stochastic solvers (‘sgd’, ‘adam’), \n",
    "           note that this determines the number of epochs (how many times each data point will be used), \n",
    "           not the number of gradient steps\n",
    "\n",
    "\n",
    "learning_rate_init : \n",
    "        double, optional, default 0.001\n",
    "        The initial learning rate used. It controls the step-size in updating the weights. \n",
    "        Only used when solver=’sgd’ or ‘adam’.\n",
    "\n",
    "\n",
    "tol : \n",
    "      float, optional, default 1e-4\n",
    "      Tolerance for the optimization. \n",
    "      When the loss or score is not improving by at least tol for n_iter_no_change consecutive iterations, \n",
    "      unless learning_rate is set to ‘adaptive’, convergence is considered to be reached and training stops.\n",
    "'''"
   ]
  }
 ],
 "metadata": {
  "kernelspec": {
   "display_name": "Python 3",
   "language": "python",
   "name": "python3"
  },
  "language_info": {
   "codemirror_mode": {
    "name": "ipython",
    "version": 3
   },
   "file_extension": ".py",
   "mimetype": "text/x-python",
   "name": "python",
   "nbconvert_exporter": "python",
   "pygments_lexer": "ipython3",
   "version": "3.11.7"
  }
 },
 "nbformat": 4,
 "nbformat_minor": 2
}
