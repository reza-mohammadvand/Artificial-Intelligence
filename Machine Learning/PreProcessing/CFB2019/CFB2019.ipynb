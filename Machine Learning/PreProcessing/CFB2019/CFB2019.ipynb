{
 "cells": [
  {
   "cell_type": "code",
   "execution_count": 1,
   "metadata": {},
   "outputs": [],
   "source": [
    "# Importing necessary libraries\n",
    "import numpy as np\n",
    "import pandas as pd\n",
    "import matplotlib.pyplot as plt\n",
    "import seaborn as sns"
   ]
  },
  {
   "cell_type": "code",
   "execution_count": 2,
   "metadata": {},
   "outputs": [
    {
     "data": {
      "text/html": [
       "<div>\n",
       "<style scoped>\n",
       "    .dataframe tbody tr th:only-of-type {\n",
       "        vertical-align: middle;\n",
       "    }\n",
       "\n",
       "    .dataframe tbody tr th {\n",
       "        vertical-align: top;\n",
       "    }\n",
       "\n",
       "    .dataframe thead th {\n",
       "        text-align: right;\n",
       "    }\n",
       "</style>\n",
       "<table border=\"1\" class=\"dataframe\">\n",
       "  <thead>\n",
       "    <tr style=\"text-align: right;\">\n",
       "      <th></th>\n",
       "      <th>Team</th>\n",
       "      <th>Games</th>\n",
       "      <th>Win-Loss</th>\n",
       "      <th>Off Rank</th>\n",
       "      <th>Off Plays</th>\n",
       "      <th>Off Yards</th>\n",
       "      <th>Off Yards/Play</th>\n",
       "      <th>Off TDs</th>\n",
       "      <th>Off Yards per Game</th>\n",
       "      <th>Def Rank</th>\n",
       "      <th>...</th>\n",
       "      <th>Average Time of Possession per Game</th>\n",
       "      <th>Turnover Rank</th>\n",
       "      <th>Fumbles Recovered</th>\n",
       "      <th>Opponents Intercepted</th>\n",
       "      <th>Turnovers Gain</th>\n",
       "      <th>Fumbles Lost</th>\n",
       "      <th>Interceptions Thrown.y</th>\n",
       "      <th>Turnovers Lost</th>\n",
       "      <th>Turnover Margin</th>\n",
       "      <th>Avg Turnover Margin per Game</th>\n",
       "    </tr>\n",
       "  </thead>\n",
       "  <tbody>\n",
       "    <tr>\n",
       "      <th>0</th>\n",
       "      <td>Air Force (Mountain West)</td>\n",
       "      <td>13</td>\n",
       "      <td>11-2</td>\n",
       "      <td>51</td>\n",
       "      <td>881</td>\n",
       "      <td>5483</td>\n",
       "      <td>6.22</td>\n",
       "      <td>55</td>\n",
       "      <td>421.8</td>\n",
       "      <td>17</td>\n",
       "      <td>...</td>\n",
       "      <td>34:28</td>\n",
       "      <td>78</td>\n",
       "      <td>9</td>\n",
       "      <td>7</td>\n",
       "      <td>16</td>\n",
       "      <td>12</td>\n",
       "      <td>6</td>\n",
       "      <td>18</td>\n",
       "      <td>-2</td>\n",
       "      <td>-0.15</td>\n",
       "    </tr>\n",
       "    <tr>\n",
       "      <th>1</th>\n",
       "      <td>Akron (MAC)</td>\n",
       "      <td>12</td>\n",
       "      <td>0-12</td>\n",
       "      <td>130</td>\n",
       "      <td>725</td>\n",
       "      <td>2918</td>\n",
       "      <td>4.02</td>\n",
       "      <td>14</td>\n",
       "      <td>243.2</td>\n",
       "      <td>83</td>\n",
       "      <td>...</td>\n",
       "      <td>26:29</td>\n",
       "      <td>128</td>\n",
       "      <td>6</td>\n",
       "      <td>5</td>\n",
       "      <td>11</td>\n",
       "      <td>12</td>\n",
       "      <td>14</td>\n",
       "      <td>26</td>\n",
       "      <td>-15</td>\n",
       "      <td>-1.25</td>\n",
       "    </tr>\n",
       "    <tr>\n",
       "      <th>2</th>\n",
       "      <td>Alabama (SEC)</td>\n",
       "      <td>13</td>\n",
       "      <td>11-2</td>\n",
       "      <td>6</td>\n",
       "      <td>842</td>\n",
       "      <td>6640</td>\n",
       "      <td>7.89</td>\n",
       "      <td>76</td>\n",
       "      <td>510.8</td>\n",
       "      <td>20</td>\n",
       "      <td>...</td>\n",
       "      <td>29:59</td>\n",
       "      <td>3</td>\n",
       "      <td>11</td>\n",
       "      <td>17</td>\n",
       "      <td>28</td>\n",
       "      <td>4</td>\n",
       "      <td>6</td>\n",
       "      <td>10</td>\n",
       "      <td>18</td>\n",
       "      <td>1.38</td>\n",
       "    </tr>\n",
       "    <tr>\n",
       "      <th>3</th>\n",
       "      <td>Appalachian St. (Sun Belt)</td>\n",
       "      <td>14</td>\n",
       "      <td>13-1</td>\n",
       "      <td>39</td>\n",
       "      <td>969</td>\n",
       "      <td>6064</td>\n",
       "      <td>6.26</td>\n",
       "      <td>65</td>\n",
       "      <td>433.1</td>\n",
       "      <td>26</td>\n",
       "      <td>...</td>\n",
       "      <td>31:19</td>\n",
       "      <td>7</td>\n",
       "      <td>10</td>\n",
       "      <td>14</td>\n",
       "      <td>24</td>\n",
       "      <td>3</td>\n",
       "      <td>6</td>\n",
       "      <td>9</td>\n",
       "      <td>15</td>\n",
       "      <td>1.07</td>\n",
       "    </tr>\n",
       "    <tr>\n",
       "      <th>4</th>\n",
       "      <td>Arizona (Pac-12)</td>\n",
       "      <td>12</td>\n",
       "      <td>4-8</td>\n",
       "      <td>30</td>\n",
       "      <td>873</td>\n",
       "      <td>5281</td>\n",
       "      <td>6.05</td>\n",
       "      <td>42</td>\n",
       "      <td>440.1</td>\n",
       "      <td>120</td>\n",
       "      <td>...</td>\n",
       "      <td>27:24</td>\n",
       "      <td>89</td>\n",
       "      <td>4</td>\n",
       "      <td>11</td>\n",
       "      <td>15</td>\n",
       "      <td>6</td>\n",
       "      <td>12</td>\n",
       "      <td>18</td>\n",
       "      <td>-3</td>\n",
       "      <td>-0.25</td>\n",
       "    </tr>\n",
       "  </tbody>\n",
       "</table>\n",
       "<p>5 rows × 146 columns</p>\n",
       "</div>"
      ],
      "text/plain": [
       "                         Team  Games Win-Loss  Off Rank  Off Plays  Off Yards  \\\n",
       "0   Air Force (Mountain West)     13     11-2        51        881       5483   \n",
       "1                 Akron (MAC)     12     0-12       130        725       2918   \n",
       "2               Alabama (SEC)     13     11-2         6        842       6640   \n",
       "3  Appalachian St. (Sun Belt)     14     13-1        39        969       6064   \n",
       "4            Arizona (Pac-12)     12      4-8        30        873       5281   \n",
       "\n",
       "   Off Yards/Play  Off TDs  Off Yards per Game  Def Rank  ...  \\\n",
       "0            6.22       55               421.8        17  ...   \n",
       "1            4.02       14               243.2        83  ...   \n",
       "2            7.89       76               510.8        20  ...   \n",
       "3            6.26       65               433.1        26  ...   \n",
       "4            6.05       42               440.1       120  ...   \n",
       "\n",
       "   Average Time of Possession per Game  Turnover Rank  Fumbles Recovered  \\\n",
       "0                                34:28             78                  9   \n",
       "1                                26:29            128                  6   \n",
       "2                                29:59              3                 11   \n",
       "3                                31:19              7                 10   \n",
       "4                                27:24             89                  4   \n",
       "\n",
       "   Opponents Intercepted  Turnovers Gain  Fumbles Lost  \\\n",
       "0                      7              16            12   \n",
       "1                      5              11            12   \n",
       "2                     17              28             4   \n",
       "3                     14              24             3   \n",
       "4                     11              15             6   \n",
       "\n",
       "   Interceptions Thrown.y  Turnovers Lost  Turnover Margin  \\\n",
       "0                       6              18               -2   \n",
       "1                      14              26              -15   \n",
       "2                       6              10               18   \n",
       "3                       6               9               15   \n",
       "4                      12              18               -3   \n",
       "\n",
       "   Avg Turnover Margin per Game  \n",
       "0                         -0.15  \n",
       "1                         -1.25  \n",
       "2                          1.38  \n",
       "3                          1.07  \n",
       "4                         -0.25  \n",
       "\n",
       "[5 rows x 146 columns]"
      ]
     },
     "execution_count": 2,
     "metadata": {},
     "output_type": "execute_result"
    }
   ],
   "source": [
    "# Reading data from 'CFB2019.csv'\n",
    "df = pd.read_csv('CFB2019.csv')\n",
    "df.head()"
   ]
  },
  {
   "cell_type": "code",
   "execution_count": 3,
   "metadata": {},
   "outputs": [
    {
     "name": "stdout",
     "output_type": "stream",
     "text": [
      "<class 'pandas.core.frame.DataFrame'>\n",
      "RangeIndex: 130 entries, 0 to 129\n",
      "Columns: 146 entries, Team to Avg Turnover Margin per Game\n",
      "dtypes: float64(29), int64(113), object(4)\n",
      "memory usage: 148.4+ KB\n"
     ]
    }
   ],
   "source": [
    "# Getting information about the dataset\n",
    "df.info()"
   ]
  },
  {
   "cell_type": "code",
   "execution_count": 4,
   "metadata": {},
   "outputs": [],
   "source": [
    "# Splitting 'Win-Loss' column into 'Win' and 'Loss'\n",
    "dfn = df['Win-Loss'].str.split('-', expand=True)"
   ]
  },
  {
   "cell_type": "code",
   "execution_count": 5,
   "metadata": {},
   "outputs": [],
   "source": [
    "# Assigning 'Win' and 'Loss' columns\n",
    "df['Win'] = dfn[0]\n",
    "df['Loss'] = dfn[1]"
   ]
  },
  {
   "cell_type": "code",
   "execution_count": 6,
   "metadata": {},
   "outputs": [],
   "source": [
    "# Dropping 'Win-Loss' column\n",
    "df.drop(columns=['Win-Loss'], inplace=True)"
   ]
  },
  {
   "cell_type": "code",
   "execution_count": 19,
   "metadata": {},
   "outputs": [],
   "source": [
    "# Converting 'Win' column to numeric\n",
    "df[['Win']] = df[['Win']].apply(pd.to_numeric, errors='coerce')"
   ]
  },
  {
   "cell_type": "code",
   "execution_count": null,
   "metadata": {},
   "outputs": [],
   "source": [
    "# Calculating correlation matrix\n",
    "df_corr = df.corr()"
   ]
  },
  {
   "cell_type": "code",
   "execution_count": null,
   "metadata": {},
   "outputs": [],
   "source": [
    "# Displaying correlation with 'Win' column\n",
    "df_corr['Win']"
   ]
  },
  {
   "cell_type": "code",
   "execution_count": 11,
   "metadata": {},
   "outputs": [],
   "source": [
    "# Converting 'Loss' column to numeric\n",
    "df[['Loss']] = df[['Loss']].apply(pd.to_numeric, errors='coerce')"
   ]
  },
  {
   "cell_type": "code",
   "execution_count": null,
   "metadata": {},
   "outputs": [],
   "source": [
    "# Calculating correlation matrix\n",
    "df_corr = df.corr()"
   ]
  },
  {
   "cell_type": "code",
   "execution_count": null,
   "metadata": {},
   "outputs": [],
   "source": [
    "# Displaying correlation between 'Loss' and 'Off Plays'\n",
    "df_corr['Loss']['Off Plays']"
   ]
  },
  {
   "cell_type": "code",
   "execution_count": null,
   "metadata": {},
   "outputs": [],
   "source": [
    "# Calculating Kendall correlation matrix\n",
    "df_corr_k = df.corr(method='kendall')"
   ]
  },
  {
   "cell_type": "code",
   "execution_count": null,
   "metadata": {},
   "outputs": [],
   "source": [
    "# Displaying correlation with 'Win' column\n",
    "df_corr_k['Win']"
   ]
  },
  {
   "cell_type": "code",
   "execution_count": null,
   "metadata": {},
   "outputs": [],
   "source": [
    "# Displaying correlations greater than 0.70 with 'Win' column\n",
    "df_corr[df_corr['Win'] > 0.70]['Win']"
   ]
  },
  {
   "cell_type": "code",
   "execution_count": null,
   "metadata": {},
   "outputs": [],
   "source": [
    "# Plotting a heatmap for the correlation matrix\n",
    "plt.figure(figsize=(20, 12))\n",
    "sns.heatmap(df_corr, cmap='YlGnBu', annot=True)"
   ]
  },
  {
   "cell_type": "code",
   "execution_count": null,
   "metadata": {},
   "outputs": [],
   "source": [
    "# Filtering correlations greater than 0.70 with 'Win' column\n",
    "df_n = df_corr[df_corr['Win'] > 0.70][['Games', 'Off Plays', 'Off Yards', 'Off TDs', 'First Downs', 'Redzone Attempts', 'Win']]\n",
    "plt.figure(figsize=(20, 12))\n",
    "sns.heatmap(df_n, cmap='YlGnBu', annot=True)"
   ]
  },
  {
   "cell_type": "code",
   "execution_count": null,
   "metadata": {},
   "outputs": [],
   "source": [
    "# Plotting a pair plot for the filtered correlations\n",
    "sns.pairplot(df_n)"
   ]
  }
 ],
 "metadata": {
  "kernelspec": {
   "display_name": "Python 3",
   "language": "python",
   "name": "python3"
  },
  "language_info": {
   "codemirror_mode": {
    "name": "ipython",
    "version": 3
   },
   "file_extension": ".py",
   "mimetype": "text/x-python",
   "name": "python",
   "nbconvert_exporter": "python",
   "pygments_lexer": "ipython3",
   "version": "3.11.7"
  }
 },
 "nbformat": 4,
 "nbformat_minor": 5
}
