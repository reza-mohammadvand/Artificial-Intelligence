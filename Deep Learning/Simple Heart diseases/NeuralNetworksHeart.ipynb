{
 "cells": [
  {
   "cell_type": "code",
   "metadata": {},
   "execution_count": 1,
   "source": [
    "# Importing necessary libraries\n",
    "import pandas as pd\n",
    "import numpy as np\n",
    "import tensorflow as tf\n"
   ]
  },
  {
   "cell_type": "code",
   "metadata": {},
   "execution_count": 2,
   "source": [
    "# Load the dataset\n",
    "data = pd.read_csv('cardio_train1.csv')\n",
    "data.head()"
   ]
  },
  {
   "cell_type": "code",
   "metadata": {},
   "execution_count": 3,
   "source": [
    "# Check for missing values\n",
    "data.isna().sum()"
   ]
  },
  {
   "cell_type": "code",
   "metadata": {},
   "execution_count": 4,
   "source": [
    "# Define features and target\n",
    "X = data.iloc[:, 1:-1]\n",
    "y = data.iloc[:, -1]\n"
   ]
  },
  {
   "cell_type": "code",
   "metadata": {},
   "execution_count": 5,
   "source": [
    "# Scale the features\n",
    "from sklearn.preprocessing import MinMaxScaler\n",
    "mms = MinMaxScaler()\n",
    "X = mms.fit_transform(X) \n"
   ]
  },
  {
   "cell_type": "code",
   "metadata": {},
   "execution_count": 6,
   "source": [
    "# One-hot encode the target\n",
    "y = pd.get_dummies(y)\n"
   ]
  },
  {
   "cell_type": "code",
   "metadata": {},
   "execution_count": 7,
   "source": [
    "# Split the data into train and test sets\n",
    "from sklearn.model_selection import train_test_split\n",
    "X_train, X_test, y_train, y_test = train_test_split(X, y, random_state=33123)\n"
   ]
  },
  {
   "cell_type": "code",
   "metadata": {},
   "execution_count": 8,
   "source": [
    "# Define the neural network model\n",
    "model = tf.keras.models.Sequential([\n",
    "    tf.keras.layers.Dense(11, activation='relu', input_shape=(11,)),\n",
    "    tf.keras.layers.Dense(30, activation='relu'),\n",
    "    tf.keras.layers.Dense(2, activation='softmax')\n",
    "])\n"
   ]
  },
  {
   "cell_type": "code",
   "metadata": {},
   "execution_count": 9,
   "source": [
    "# Compile the model\n",
    "model.compile(optimizer=tf.keras.optimizers.Adam(0.001), loss=tf.keras.losses.CategoricalCrossentropy(), metrics=[tf.keras.metrics.CategoricalAccuracy()])\n"
   ]
  },
  {
   "cell_type": "code",
   "metadata": {},
   "execution_count": 10,
   "source": [
    "# Train the model\n",
    "model.fit(X_train, y_train, epochs=10, validation_data=(X_test, y_test), batch_size=800)\n"
   ]
  },
  {
   "cell_type": "code",
   "metadata": {},
   "execution_count": 11,
   "source": [
    "# Train a Random Forest classifier for comparison\n",
    "from sklearn.ensemble import RandomForestClassifier\n",
    "yr = data.iloc[:, -1]\n",
    "rfc = RandomForestClassifier(n_estimators=200)\n",
    "Xr_train, Xr_test, yr_train, yr_test = train_test_split(X, yr, random_state=33123)\n",
    "rfc.fit(Xr_train, yr_train)\n"
   ]
  },
  {
   "cell_type": "code",
   "metadata": {},
   "execution_count": 12,
   "source": [
    "# Evaluate the Random Forest classifier\n",
    "from sklearn.metrics import classification_report\n",
    "y_pred = rfc.predict(Xr_test)\n",
    "print(classification_report(y_true=yr_test, y_pred=y_pred))\n"
   ]
  },
  {
   "cell_type": "code",
   "metadata": {},
   "execution_count": 13,
   "source": [
    "# Redefine the neural network model with more layers\n",
    "model = tf.keras.models.Sequential([\n",
    "    tf.keras.layers.Dense(11, activation='relu', input_shape=(11,)),\n",
    "    tf.keras.layers.Dense(30, activation='relu'),\n",
    "    tf.keras.layers.Dense(60, activation='relu'),\n",
    "    tf.keras.layers.Dense(25, activation='relu'),\n",
    "    tf.keras.layers.Dense(2, activation='softmax')\n",
    "])\n",
    "model.compile(optimizer=tf.keras.optimizers.Adam(0.001), loss=tf.keras.losses.CategoricalCrossentropy(), metrics=[tf.keras.metrics.CategoricalAccuracy()])\n"
   ]
  },
  {
   "cell_type": "code",
   "metadata": {},
   "execution_count": 14,
   "source": [
    "# Train the updated model\n",
    "model.fit(X_train, y_train, epochs=500, validation_data=(X_test, y_test), batch_size=300)\n"
   ]
  },
  {
   "cell_type": "code",
   "metadata": {},
   "execution_count": 15,
   "source": [
    "# Print model summary\n",
    "model.summary()\n"
   ]
  },
  {
   "cell_type": "code",
   "metadata": {},
   "execution_count": 16,
   "source": [
    "# Make predictions using the updated model\n",
    "model.predict(X_test)[3]\n"
   ]
  }
 ],
 "metadata": {
  "kernelspec": {
   "display_name": "Python 3",
   "language": "python",
   "name": "python3"
  },
  "language_info": {
   "codemirror_mode": {
    "name": "ipython",
    "version": 3
   },
   "file_extension": ".py",
   "mimetype": "text/x-python",
   "name": "python",
   "nbconvert_exporter": "python",
   "pygments_lexer": "ipython3",
   "version": "3.7.10"
  }
 },
 "nbformat": 4,
 "nbformat_minor": 5
}
