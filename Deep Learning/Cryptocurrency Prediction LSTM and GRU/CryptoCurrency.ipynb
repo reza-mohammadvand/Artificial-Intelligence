{
 "cells": [
  {
   "cell_type": "code",
   "execution_count": 1,
   "metadata": {},
   "outputs": [],
   "source": [
    "# Import necessary libraries\n",
    "import pandas as pd\n",
    "import numpy as np\n",
    "from matplotlib import pyplot\n",
    "from collections import deque\n",
    "from sklearn import preprocessing\n",
    "import random"
   ]
  },
  {
   "cell_type": "code",
   "execution_count": 2,
   "metadata": {},
   "outputs": [],
   "source": [
    "# Create an empty dataframe\n",
    "main_dataframe = pd.DataFrame()"
   ]
  },
  {
   "cell_type": "code",
   "execution_count": 3,
   "metadata": {},
   "outputs": [],
   "source": [
    "# List of cryptocurrencies\n",
    "currencies = ['BCH-USD', 'BTC-USD', 'ETH-USD', 'LTC-USD']\n",
    "\n",
    "# Load data for each cryptocurrency\n",
    "for c in currencies:\n",
    "    dataset = 'data/' + c + '.csv' # File path\n",
    "    df = pd.read_csv(dataset, names=['time', 'low', 'high', 'open', 'close', 'volume']) # Read CSV\n",
    "    df.rename(columns={'close': c + '_close', 'volume': c + '_volume'}, inplace=True) # Rename columns\n",
    "    df.set_index('time', inplace=True) # Set time as index\n",
    "    df = df[[c + '_close', c + '_volume']] # Select relevant columns\n",
    "    if len(main_dataframe) == 0: # Add data to main dataframe\n",
    "        main_dataframe = df\n",
    "    else:\n",
    "        main_dataframe = main_dataframe.join(df)"
   ]
  },
  {
   "cell_type": "code",
   "execution_count": 4,
   "metadata": {},
   "outputs": [],
   "source": [
    "# Display the first few rows of the dataframe\n",
    "main_dataframe.head()"
   ]
  },
  {
   "cell_type": "code",
   "execution_count": 5,
   "metadata": {},
   "outputs": [],
   "source": [
    "# Check for missing values\n",
    "main_dataframe.isnull().sum()"
   ]
  },
  {
   "cell_type": "code",
   "execution_count": 6,
   "metadata": {},
   "outputs": [],
   "source": [
    "# Fill missing values with previous values\n",
    "main_dataframe.fillna(method='ffill', inplace=True)"
   ]
  },
  {
   "cell_type": "code",
   "execution_count": 7,
   "metadata": {},
   "outputs": [],
   "source": [
    "# Check for missing values after filling\n",
    "main_dataframe.isnull().sum()"
   ]
  },
  {
   "cell_type": "code",
   "execution_count": 8,
   "metadata": {},
   "outputs": [],
   "source": [
    "# Fill missing values with next values\n",
    "main_dataframe.fillna(method='bfill', inplace=True)"
   ]
  },
  {
   "cell_type": "code",
   "execution_count": 9,
   "metadata": {},
   "outputs": [],
   "source": [
    "# Check for missing values after filling\n",
    "main_dataframe.isnull().sum()"
   ]
  },
  {
   "cell_type": "code",
   "execution_count": 10,
   "metadata": {},
   "outputs": [],
   "source": [
    "# Add a column 'future' containing the close price of LTC 3 days later\n",
    "main_dataframe['future'] = main_dataframe['LTC-USD_close'].shift(-3)\n",
    " # we want predict LTC -- we want know price of 3 days later -- get 3 days later as target  \n",
    "# check all features and tell me 3 dayes later i buy LTC or sell it "
   ]
  },
  {
   "cell_type": "code",
   "execution_count": 11,
   "metadata": {},
   "outputs": [],
   "source": [
    "# Display the first few rows of the dataframe with the new column\n",
    "main_dataframe.head()"
   ]
  },
  {
   "cell_type": "code",
   "execution_count": 12,
   "metadata": {},
   "outputs": [],
   "source": [
    "# Define a function to compare current and future prices\n",
    "# this finction add a column to daata set and check all features and tell me 3 dayes later I buy(1) LTC or sell(0) it \n",
    "def compare(current, future):\n",
    "    if future > current:\n",
    "        return 1\n",
    "    else:\n",
    "        return 0\n",
    "\n",
    "# Add a column 'target' to indicate whether to buy (1) or sell (0) LTC based on future price\n",
    "main_dataframe['target'] = list(map(compare, main_dataframe['LTC-USD_close'], main_dataframe['future']))"
   ]
  },
  {
   "cell_type": "code",
   "execution_count": 13,
   "metadata": {},
   "outputs": [],
   "source": [
    "# Display the first few rows of the dataframe with the 'target' column\n",
    "main_dataframe.head()"
   ]
  },
  {
   "cell_type": "code",
   "execution_count": 14,
   "metadata": {},
   "outputs": [],
   "source": [
    "# Get sorted index values of the dataframe\n",
    "times = sorted(main_dataframe.index.values)"
   ]
  },
  {
   "cell_type": "code",
   "execution_count": 15,
   "metadata": {},
   "outputs": [],
   "source": [
    "# Calculate the index value corresponding to the last 10% of the data\n",
    "last_10pct = sorted(main_dataframe.index.values)[-int(0.1 * len(times))]"
   ]
  },
  {
   "cell_type": "code",
   "execution_count": 16,
   "metadata": {},
   "outputs": [],
   "source": [
    "# Display the index value corresponding to the last 10% of the data\n",
    "last_10pct"
   ]
  },
  {
   "cell_type": "code",
   "execution_count": 17,
   "metadata": {},
   "outputs": [],
   "source": [
    "# Separate data into train and test sets\n",
    "main_dataframe_test = main_dataframe[(main_dataframe.index >= last_10pct)]\n",
    "main_dataframe_train = main_dataframe[(main_dataframe.index < last_10pct)]"
   ]
  },
  {
   "cell_type": "code",
   "execution_count": 18,
   "metadata": {},
   "outputs": [],
   "source": [
    "# Display the length of the test set\n",
    "len(main_dataframe_test)"
   ]
  },
  {
   "cell_type": "code",
   "execution_count": 19,
   "metadata": {},
   "outputs": [],
   "source": [
    "# Display the length of the train set\n",
    "len(main_dataframe_train)"
   ]
  },
  {
   "cell_type": "code",
   "execution_count": 20,
   "metadata": {},
   "outputs": [],
   "source": [
    "# Display the 'BTC-USD_close' column\n",
    "main_dataframe['BTC-USD_close']"
   ]
  },
  {
   "cell_type": "code",
   "execution_count": 21,
   "metadata": {},
   "outputs": [],
   "source": [
    "# Calculate percentage change of 'BTC-USD_close'\n",
    "main_dataframe['BTC-USD_close'].pct_change()"
   ]
  },
  {
   "cell_type": "code",
   "execution_count": 22,
   "id": "376005f1",
   "metadata": {},
   "outputs": [],
   "source": [
    "# Define a function to preprocess the main dataframe\n",
    "def preprocess_main_dataframe(df):\n",
    "    df = df.drop('future', axis=1)\n",
    "    for col in df.columns:\n",
    "        if col != 'target': \n",
    "            df[col] = df[col].pct_change() \n",
    "            df.dropna(inplace=True) # delete nulls or nan\n",
    "            df[col] = preprocessing.scale(df[col].values) # scale between 0 and 1\n",
    "    df.dropna(inplace=True) \n",
    "    sequences = []\n",
    "    prev_days = deque(maxlen=30) # deque(maxlen=30) --> 30 satr ra bebinad va begoyad roz ya satr 31 buy konim ya sell\n",
    "    for i in df.values:\n",
    "        prev_days.append([n for n in i[:-1]]) # add all column exept target(last column)\n",
    "        if len(prev_days) == 30:\n",
    "            sequences.append([np.array(prev_days), i[-1]]) \n",
    "    random.shuffle(sequences)\n",
    "    buys = []\n",
    "    sells = []\n",
    "    for seq, target in sequences:\n",
    "        if target == 0:\n",
    "            sells.append([seq, target])\n",
    "        elif target == 1:\n",
    "            buys.append([seq, target])\n",
    "    random.shuffle(buys)\n",
    "    random.shuffle(sells)\n",
    "    lower = min(len(buys), len(sells)) # for balance data\n",
    "    buys = buys[:lower]\n",
    "    sells = sells[:lower]\n",
    "    sequential_data = buys + sells\n",
    "    random.shuffle(sequential_data)\n",
    "    X = []\n",
    "    y = []\n",
    "    for seq, target in sequential_data:\n",
    "        X.append(seq)\n",
    "        y.append(target)\n",
    "    return np.array(X), np.array(y)"
   ]
  },
  {
   "cell_type": "code",
   "execution_count": 23,
   "id": "0ae2f0e8",
   "metadata": {},
   "outputs": [],
   "source": [
    "# Preprocess the main dataframe for training\n",
    "train_X, train_y = preprocess_main_dataframe(main_dataframe_train)"
   ]
  },
  {
   "cell_type": "code",
   "execution_count": 24,
   "id": "92e08c2d",
   "metadata": {},
   "outputs": [],
   "source": [
    "# Display the shape of the training data\n",
    "train_X.shape"
   ]
  },
  {
   "cell_type": "code",
   "execution_count": 25,
   "id": "01a88bed",
   "metadata": {},
   "outputs": [],
   "source": [
    "# Display the shape of the training labels\n",
    "train_y.shape"
   ]
  },
  {
   "cell_type": "code",
   "execution_count": 26,
   "id": "76afa082",
   "metadata": {},
   "outputs": [],
   "source": [
    "# Display the unique values and their counts in the training labels\n",
    "np.unique(train_y, return_counts=True)"
   ]
  },
  {
   "cell_type": "code",
   "execution_count": 27,
   "id": "99a5d764",
   "metadata": {},
   "outputs": [],
   "source": [
    "# Preprocess the main dataframe for testing\n",
    "test_X, test_y = preprocess_main_dataframe(main_dataframe_test)"
   ]
  },
  {
   "cell_type": "code",
   "execution_count": 28,
   "id": "e67569c6",
   "metadata": {},
   "outputs": [],
   "source": [
    "# Display the shape of the testing data\n",
    "test_X.shape"
   ]
  },
  {
   "cell_type": "code",
   "execution_count": 29,
   "metadata": {},
   "outputs": [],
   "source": [
    "# Import necessary libraries for building the model\n",
    "import tensorflow as tf\n",
    "from tensorflow.keras.models import Sequential\n",
    "from tensorflow.keras.layers import LSTM, Dense, Dropout, BatchNormalization"
   ]
  },
  {
   "cell_type": "code",
   "execution_count": 30,
   "metadata": {},
   "outputs": [],
   "source": [
    "# Define the model architecture\n",
    "model = Sequential()\n",
    "model.add(LSTM(64, input_shape=(train_X.shape[1:])))\n",
    "model.add(Dense(32, activation='relu'))\n",
    "model.add(Dense(32, activation='relu'))\n",
    "model.add(Dense(2, activation='softmax'))"
   ]
  },
  {
   "cell_type": "code",
   "execution_count": 31,
   "metadata": {},
   "outputs": [],
   "source": [
    "# Compile the model\n",
    "model.compile(loss='sparse_categorical_crossentropy', optimizer='Adam', metrics=['accuracy'])"
   ]
  },
  {
   "cell_type": "code",
   "execution_count": 32,
   "metadata": {},
   "outputs": [],
   "source": [
    "# Train the model\n",
    "history = model.fit(train_X, train_y, batch_size=100, epochs=100, validation_data=(test_X, test_y))"
   ]
  }
 ],
 "metadata": {
  "kernelspec": {
   "display_name": "Python 3",
   "language": "python",
   "name": "python3"
  }
 },
 "nbformat": 4,
 "nbformat_minor": 5
}
