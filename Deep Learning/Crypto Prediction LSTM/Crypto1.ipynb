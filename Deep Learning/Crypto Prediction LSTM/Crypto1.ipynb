{
 "cells": [
  {
   "cell_type": "code",
   "execution_count": 1,
   "metadata": {},
   "outputs": [],
   "source": [
    "# Import necessary libraries\n",
    "import json\n",
    "import requests\n",
    "from tensorflow.keras.models import Sequential\n",
    "from tensorflow.keras.layers import Activation, Dense, Dropout, LSTM\n",
    "import matplotlib.pyplot as plt\n",
    "import numpy as np\n",
    "import pandas as pd\n",
    "import seaborn as sns\n",
    "from sklearn.metrics import mean_absolute_error"
   ]
  },
  {
   "cell_type": "code",
   "execution_count": 2,
   "metadata": {},
   "outputs": [],
   "source": [
    "# Fetch data from API\n",
    "response = requests.get('https://min-api.cryptocompare.com/data/histoday?fsym=ETH&tsym=CAD&limit=1000') \n",
    "json.loads(response.content)['Data'] # get content"
   ]
  },
  {
   "cell_type": "code",
   "execution_count": 3,
   "metadata": {},
   "outputs": [],
   "source": [
    "# Convert JSON response to DataFrame\n",
    "df = pd.DataFrame(json.loads(response.content)['Data']) # convert to data frame\n",
    "df.head()"
   ]
  },
  {
   "cell_type": "code",
   "execution_count": 4,
   "metadata": {},
   "outputs": [],
   "source": [
    "# Set time as index\n",
    "df = df.set_index('time')\n",
    "df.head()"
   ]
  },
  {
   "cell_type": "code",
   "execution_count": 5,
   "metadata": {},
   "outputs": [],
   "source": [
    "# Select relevant columns\n",
    "df = df[['high', 'low', 'open', 'volumefrom', 'volumeto', 'close']]\n",
    "df.head()"
   ]
  },
  {
   "cell_type": "code",
   "execution_count": 6,
   "metadata": {},
   "outputs": [],
   "source": [
    "# Function to split data into train and test sets\n",
    "def train_test_split(df):\n",
    "    split_row = len(df) - int(0.1 * len(df)) # 80% data for train\n",
    "    train_data = df.iloc[:split_row] \n",
    "    test_data = df.iloc[split_row:] # 20% data for test\n",
    "    return train_data, test_data\n",
    "train, test = train_test_split(df) # separate data into train and test\n"
   ]
  },
  {
   "cell_type": "code",
   "execution_count": 7,
   "metadata": {},
   "outputs": [],
   "source": [
    "# Display length of test set\n",
    "len(test)"
   ]
  },
  {
   "cell_type": "code",
   "execution_count": 8,
   "metadata": {},
   "outputs": [],
   "source": [
    "# Plot data\n",
    "fig, ax = plt.subplots(1, figsize=(12, 8)) # show data\n",
    "ax.plot(train['close'], label='train_data')\n",
    "ax.plot(test['close'], label='test_data')"
   ]
  },
  {
   "cell_type": "code",
   "execution_count": 9,
   "metadata": {},
   "outputs": [],
   "source": [
    "# Function to normalize data (zero-base normalization)\n",
    "def norm_zero_base(df):\n",
    "    return df / df.iloc[0] - 1 # divide all numbers by the first number in the column"
   ]
  },
  {
   "cell_type": "code",
   "execution_count": 10,
   "metadata": {},
   "outputs": [],
   "source": [
    "# Example of zero-base normalization\n",
    "sample = norm_zero_base(df['close']) # show for example\n",
    "fig, ax = plt.subplots(1, figsize=(12, 8))\n",
    "ax.plot(sample, label='sample')"
   ]
  },
  {
   "cell_type": "code",
   "execution_count": 11,
   "metadata": {},
   "outputs": [],
   "source": [
    "# Function to normalize data (min-max normalization)\n",
    "def norm_min_max(df):\n",
    "    return (df - df.min()) / (df.max() - df.min())"
   ]
  },
  {
   "cell_type": "code",
   "execution_count": 12,
   "metadata": {},
   "outputs": [],
   "source": [
    "# Example of min-max normalization\n",
    "sample = norm_min_max(df['close'])\n",
    "fig, ax = plt.subplots(1, figsize=(12, 8))\n",
    "ax.plot(sample, label='sample')"
   ]
  },
  {
   "cell_type": "code",
   "execution_count": 13,
   "metadata": {},
   "outputs": [],
   "source": [
    "# Function to extract windowed data\n",
    "def extract_windows_data(df):\n",
    "    window_data = []\n",
    "    for idx in range(len(df) - 10):\n",
    "        tmp = df[idx: (idx + 10)].copy()\n",
    "        tmp = norm_zero_base(tmp)\n",
    "        window_data.append(tmp.values)\n",
    "    return np.array(window_data)"
   ]
  },
  {
   "cell_type": "code",
   "execution_count": 14,
   "metadata": {},
   "outputs": [],
   "source": [
    "# Function to prepare data for training\n",
    "def prepare_data(df):\n",
    "    train_data, test_data = train_test_split(df)\n",
    "    X_train = extract_windows_data(train_data)\n",
    "    X_test = extract_windows_data(test_data)\n",
    "    y_train = train_data['close'][10:].values\n",
    "    y_test = test_data['close'][10:].values\n",
    "    \n",
    "    y_train = y_train / train_data['close'][:-10].values - 1\n",
    "    y_test = y_test / test_data['close'][:-10].values - 1\n",
    "    return train_data, test_data, X_train, X_test, y_train, y_test"
   ]
  },
  {
   "cell_type": "code",
   "execution_count": 15,
   "metadata": {},
   "outputs": [],
   "source": [
    "# Prepare data\n",
    "train, test, X_train, X_test, y_train, y_test = prepare_data(df)"
   ]
  },
  {
   "cell_type": "code",
   "execution_count": 16,
   "metadata": {},
   "outputs": [],
   "source": [
    "# Display y_train\n",
    "y_train"
   ]
  },
  {
   "cell_type": "code",
   "execution_count": 17,
   "metadata": {},
   "outputs": [],
   "source": [
    "# Display X_train\n",
    "X_train[0]"
   ]
  },
  {
   "cell_type": "code",
   "execution_count": 18,
   "metadata": {},
   "outputs": [],
   "source": [
    "# Define the LSTM model\n",
    "model = Sequential()\n",
    "model.add(LSTM(100, input_shape=(X_train.shape[1], X_train.shape[2])))\n",
    "model.add(Dropout(0.5))\n",
    "model.add(Dense(units=1))\n",
    "model.add(Activation('relu'))\n",
    "\n",
    "model.compile(loss='mse', optimizer='adam') # Mean Squared Error (MSE) loss function"
   ]
  },
  {
   "cell_type": "code",
   "execution_count": 19,
   "metadata": {},
   "outputs": [],
   "source": [
    "# Train the model\n",
    "history = model.fit(X_train, y_train, epochs=200, batch_size=32, shuffle=True, verbose=1)"
   ]
  },
  {
   "cell_type": "code",
   "execution_count": 20,
   "metadata": {},
   "outputs": [],
   "source": [
    "# Make predictions on test set\n",
    "targets = test['close'][10:]\n",
    "preds = model.predict(X_test).squeeze()\n",
    "\n",
    "# Calculate mean absolute error\n",
    "mean_absolute_error(preds, y_test)"
   ]
  },
  {
   "cell_type": "code",
   "execution_count": 21,
   "metadata": {},
   "outputs": [],
   "source": [
    "# Display predictions\n",
    "preds"
   ]
  },
  {
   "cell_type": "code",
   "execution_count": 22,
   "metadata": {},
   "outputs": [],
   "source": [
    "# Adjust predictions back to original scale\n",
    "targets[:10] * (preds[:10] + 1)"
   ]
  },
  {
   "cell_type": "code",
   "execution_count": 23,
   "metadata": {},
   "outputs": [],
   "source": [
    "# Predicted prices for the last 10 days of the training set\n",
    "len(train[-10:]) * (preds[:10] + 1)"
   ]
  },
  {
   "cell_type": "code",
   "execution_count": 24,
   "metadata": {},
   "outputs": [],
   "source": [
    "# Length of predictions\n",
    "len(preds)"
   ]
  },
  {
   "cell_type": "code",
   "execution_count": 25,
   "metadata": {},
   "outputs": [],
   "source": [
    "# Display predictions\n",
    "preds"
   ]
  },
  {
   "cell_type": "code",
   "execution_count": 26,
   "metadata": {},
   "outputs": [],
   "source": [
    "# Adjust predictions for plotting\n",
    "preds_plt = preds.copy()\n",
    "preds_plt[:60] = test['close'].iloc[:60].values * (preds_plt[:60] + 1)\n",
    "preds_plt = pd.Series(index=targets.index, data=preds_plt)\n",
    "fig, ax = plt.subplots(1, figsize=(12, 8))\n",
    "ax.plot(targets, label='target')\n",
    "ax.plot(preds_plt, label='predicted')\n",
    "ax.legend()\n",
    "plt.show()"
   ]
  }
 ],
"metadata": {
  "kernelspec": {
   "display_name": "Python 3",
   "language": "python",
   "name": "python3"
  },
  "language_info": {
   "codemirror_mode": {
    "name": "ipython",
    "version": 3
   },
   "file_extension": ".py",
   "mimetype": "text/x-python",
   "name": "python",
   "nbconvert_exporter": "python",
   "pygments_lexer": "ipython3",
   "version": "3.7.10"
  }
 },
 "nbformat": 4,
 "nbformat_minor": 5
}