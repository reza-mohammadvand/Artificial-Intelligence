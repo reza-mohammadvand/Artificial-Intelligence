{
 "cells": [
  {
   "cell_type": "code",
   "metadata": {},
   "execution_count": 1,
   "source": [
    "# Importing necessary libraries\n",
    "import tensorflow as tf\n"
   ]
  },
  {
   "cell_type": "code",
   "metadata": {},
   "execution_count": 2,
   "source": [
    "# Importing the MNIST dataset\n",
    "import tensorflow_datasets\n",
    "(train, test), info = tensorflow_datasets.load('mnist', split=['train', 'test'], as_supervised=True, with_info=True)\n"
   ]
  },
  {
   "cell_type": "code",
   "metadata": {},
   "execution_count": 3,
   "source": [
    "# Displaying the train dataset\n",
    "train\n"
   ]
  },
  {
   "cell_type": "code",
   "metadata": {},
   "execution_count": 4,
   "source": [
    "# Define a function to normalize the image data\n",
    "def normalize(image, label):\n",
    "    return tf.cast(image, tf.float32) / 256, label\n",
    "train = train.map(normalize)\n"
   ]
  },
  {
   "cell_type": "code",
   "metadata": {},
   "execution_count": 5,
   "source": [
    "# Cache the train dataset\n",
    "train = train.cache()\n"
   ]
  },
  {
   "cell_type": "code",
   "metadata": {},
   "execution_count": 6,
   "source": [
    "# Shuffle the train dataset\n",
    "train = train.shuffle(info.splits['train'].num_examples)\n"
   ]
  },
  {
   "cell_type": "code",
   "metadata": {},
   "execution_count": 7,
   "source": [
    "# Batch the train dataset\n",
    "train = train.batch(256)\n"
   ]
  },
  {
   "cell_type": "code",
   "metadata": {},
   "execution_count": 8,
   "source": [
    "# Prefetch the train dataset\n",
    "train = train.prefetch(tf.data.experimental.AUTOTUNE)\n"
   ]
  },
  {
   "cell_type": "code",
   "metadata": {},
   "execution_count": 9,
   "source": [
    "# Displaying the test dataset\n",
    "test = test.map(normalize)\n",
    "test\n"
   ]
  },
  {
   "cell_type": "code",
   "metadata": {},
   "execution_count": 10,
   "source": [
    "# Batch the test dataset\n",
    "test = test.batch(256)\n"
   ]
  },
  {
   "cell_type": "code",
   "metadata": {},
   "execution_count": 11,
   "source": [
    "# Cache the test dataset\n",
    "test = test.cache()\n",
    "# Prefetch the test dataset\n",
    "test = test.prefetch(tf.data.experimental.AUTOTUNE)\n"
   ]
  },
  {
   "cell_type": "code",
   "metadata": {},
   "execution_count": 12,
   "source": [
    "# Define the neural network model\n",
    "model = tf.keras.models.Sequential([\n",
    "    tf.keras.layers.Flatten(input_shape=(28, 28)),\n",
    "    tf.keras.layers.Dense(100, activation='relu'),\n",
    "    tf.keras.layers.Dense(10, activation='softmax')\n",
    "])\n"
   ]
  },
  {
   "cell_type": "code",
   "metadata": {},
   "execution_count": 13,
   "source": [
    "# Compile the model\n",
    "model.compile(optimizer=tf.keras.optimizers.Adam(0.001), loss=tf.keras.losses.SparseCategoricalCrossentropy(from_logits=True), metrics=[tf.keras.metrics.SparseCategoricalAccuracy()])\n"
   ]
  },
  {
   "cell_type": "code",
   "metadata": {},
   "execution_count": 14,
   "source": [
    "# Train the model\n",
    "model.fit(train, epochs=10, validation_data=test)\n"
   ]
  },
  {
   "cell_type": "code",
   "metadata": {},
   "execution_count": 15,
   "source": [
    "# Make predictions using the trained model\n",
    "import numpy as np\n",
    "np.argmax(model.predict(test)[0])\n"
   ]
  }
 ],
 "metadata": {
  "kernelspec": {
   "display_name": "Python 3",
   "language": "python",
   "name": "python3"
  },
  "language_info": {
   "codemirror_mode": {
    "name": "ipython",
    "version": 3
   },
   "file_extension": ".py",
   "mimetype": "text/x-python",
   "name": "python",
   "nbconvert_exporter": "python",
   "pygments_lexer": "ipython3",
   "version": "3.7.10"
  }
 },
 "nbformat": 4,
 "nbformat_minor": 5
}
