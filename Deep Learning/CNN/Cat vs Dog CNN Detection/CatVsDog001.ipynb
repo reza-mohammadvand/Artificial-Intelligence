{
 "cells": [
  {
   "cell_type": "code",
   "execution_count": 1,
   "metadata": {},
   "outputs": [
    {
     "ename": "ModuleNotFoundError",
     "evalue": "No module named 'tensorflow'",
     "output_type": "error",
     "traceback": [
      "\u001b[1;31m---------------------------------------------------------------------------\u001b[0m",
      "\u001b[1;31mModuleNotFoundError\u001b[0m                       Traceback (most recent call last)",
      "Cell \u001b[1;32mIn[1], line 2\u001b[0m\n\u001b[0;32m      1\u001b[0m \u001b[39m# Importing necessary libraries from TensorFlow\u001b[39;00m\n\u001b[1;32m----> 2\u001b[0m \u001b[39mfrom\u001b[39;00m \u001b[39mtensorflow\u001b[39;00m\u001b[39m.\u001b[39;00m\u001b[39mkeras\u001b[39;00m\u001b[39m.\u001b[39;00m\u001b[39mutils\u001b[39;00m \u001b[39mimport\u001b[39;00m to_categorical\n\u001b[0;32m      3\u001b[0m \u001b[39mfrom\u001b[39;00m \u001b[39mtensorflow\u001b[39;00m\u001b[39m.\u001b[39;00m\u001b[39mkeras\u001b[39;00m\u001b[39m.\u001b[39;00m\u001b[39mmodels\u001b[39;00m \u001b[39mimport\u001b[39;00m Sequential\n\u001b[0;32m      4\u001b[0m \u001b[39mfrom\u001b[39;00m \u001b[39mtensorflow\u001b[39;00m\u001b[39m.\u001b[39;00m\u001b[39mkeras\u001b[39;00m\u001b[39m.\u001b[39;00m\u001b[39mlayers\u001b[39;00m \u001b[39mimport\u001b[39;00m Conv2D, MaxPool2D, Dense, Flatten\n",
      "\u001b[1;31mModuleNotFoundError\u001b[0m: No module named 'tensorflow'"
     ]
    }
   ],
   "source": [
    "# Importing necessary libraries from TensorFlow\n",
    "pip install tensorflow\n",
    "from tensorflow.keras.utils import to_categorical\n",
    "from tensorflow.keras.models import Sequential\n",
    "from tensorflow.keras.layers import Conv2D, MaxPool2D, Dense, Flatten\n",
    "from tensorflow.keras.optimizers import Adam\n",
    "from tensorflow.keras.preprocessing.image import ImageDataGenerator"
   ]
  },
  {
   "cell_type": "code",
   "execution_count": null,
   "metadata": {},
   "outputs": [],
   "source": [
    "# Creating an ImageDataGenerator for data augmentation\n",
    "data_generator = ImageDataGenerator(\n",
    "    # Configuring image augmentation parameters\n",
    "    rescale=1.0/255.0,  # Rescaling the image\n",
    "    zoom_range=0.4,  # Randomly zooming the image\n",
    "    horizontal_flip=True,  # Randomly flipping the image horizontally\n",
    "    vertical_flip=True,  # Randomly flipping the image vertically\n",
    "    rotation_range=50,  # Randomly rotating the image\n",
    "    width_shift_range=0.3,  # Randomly shifting the width of the image\n",
    "    height_shift_range=0.3,  # Randomly shifting the height of the image\n",
    "    shear_range=0.4,  # Shear Intensity (Shear angle in counter-clockwise direction in degrees)\n",
    "    fill_mode='nearest'  # Filling in the area outside the input image\n",
    ")\n",
    "# Loading the training data from the 'PetImages' directory\n",
    "train = data_generator.flow_from_directory('PetImages/', class_mode='binary', batch_size=50, target_size=(200, 200))\n",
    "# Using flow_from_directory() to load images in batches from the directory\n",
    "# This approach helps avoid loading all images into RAM at once, making it memory efficient."
   ]
  },
  {
   "cell_type": "code",
   "execution_count": null,
   "metadata": {},
   "outputs": [],
   "source": [
    "# Checking the data generator\n",
    "train"
   ]
  },
  {
   "cell_type": "code",
   "execution_count": null,
   "metadata": {},
   "outputs": [],
   "source": [
    "# Loading the test data from the 'PetImagesTest' directory\n",
    "test = data_generator.flow_from_directory('PetImagesTest/', class_mode='binary', batch_size=50, target_size=(200, 200))"
   ]
  },
  {
   "cell_type": "code",
   "execution_count": null,
   "metadata": {},
   "outputs": [],
   "source": [
    "# Creating a Sequential model\n",
    "model = Sequential()\n",
    "# Adding convolutional and pooling layers\n",
    "model.add(Conv2D(32, (3, 3), activation='relu', padding='same', input_shape=(200, 200, 3)))\n",
    "model.add(MaxPool2D((2, 2)))\n",
    "# Flattening the input for the dense layer\n",
    "model.add(Flatten())\n",
    "# Adding a dense layer with sigmoid activation for binary classification\n",
    "model.add(Dense(1, activation='sigmoid'))"
   ]
  },
  {
   "cell_type": "code",
   "execution_count": null,
   "metadata": {},
   "outputs": [],
   "source": [
    "# Displaying the model summary\n",
    "model.summary()"
   ]
  },
  {
   "cell_type": "code",
   "execution_count": null,
   "metadata": {},
   "outputs": [],
   "source": [
    "# Compiling the model\n",
    "model.compile(optimizer=Adam(), loss='binary_crossentropy', metrics=['accuracy'])"
   ]
  },
  {
   "cell_type": "code",
   "execution_count": null,
   "metadata": {},
   "outputs": [],
   "source": [
    "# Checking for bad (corrupted) images in the test directory and handling them\n",
    "import os # this function ssearch in folder and find bad(destroy) images and if it doesn't prepare --> introduce them \n",
    "from PIL import Image\n",
    "# Defining the folder path and empty list to store extensions\n",
    "folder_path = 'PetImagesTest'\n",
    "extensions = []\n",
    "# Iterating through the directories and files to find and handle bad images\n",
    "for fldr in os.listdir(folder_path):\n",
    "    sub_folder_path = os.path.join(folder_path, fldr)\n",
    "    for filee in os.listdir(sub_folder_path):\n",
    "        file_path = os.path.join(sub_folder_path, filee)\n",
    "        print('** Path: {}  **'.format(file_path), end=\"\\r\", flush=True)\n",
    "        im = Image.open(file_path)\n",
    "        rgb_im = im.convert('RGB')\n",
    "        # Checking and appending unique extensions\n",
    "        if filee.split('.')[1] not in extensions:\n",
    "            extensions.append(filee.split('.')[1])"
   ]
  },
  {
   "cell_type": "code",
   "execution_count": null,
   "metadata": {},
   "outputs": [],
   "source": [
    "# Training the model using data generator\n",
    "history = model.fit_generator(train, steps_per_epoch=len(train), validation_data=test, validation_steps=len(test), epochs=30) # steps_per_epoch=len(train) = because we don't know how many image we have --> set this to finished each epoch when process as count as length of train data"
   ]
  },
  {
   "cell_type": "code",
   "execution_count": null,
   "metadata": {},
   "outputs": [],
   "source": [
    "# Plotting the training and validation accuracy\n",
    "import matplotlib.pyplot as plt\n",
    "plt.plot(history.history['accuracy'], color='green')\n",
    "plt.plot(history.history['val_accuracy'], color='blue')"
   ]
  },
  {
   "cell_type": "code",
   "execution_count": null,
   "metadata": {},
   "outputs": [],
   "source": [
    "# Saving the trained model\n",
    "model.save('catvsdog.h5')"
   ]
  }
 ],
 "metadata": {
  "kernelspec": {
   "display_name": "Python 3",
   "language": "python",
   "name": "python3"
  },
  "language_info": {
   "codemirror_mode": {
    "name": "ipython",
    "version": 3
   },
   "file_extension": ".py",
   "mimetype": "text/x-python",
   "name": "python",
   "nbconvert_exporter": "python",
   "pygments_lexer": "ipython3",
   "version": "3.11.7"
  }
 },
 "nbformat": 4,
 "nbformat_minor": 5
}
