{
 "cells": [
  {
   "cell_type": "code",
   "execution_count": 1,
   "metadata": {},
   "outputs": [],
   "source": [
    "# Importing necessary libraries\n",
    "import numpy as np\n",
    "import pandas as pd\n",
    "import matplotlib.pyplot as plt\n",
    "from tensorflow.keras.preprocessing.image import ImageDataGenerator\n",
    "from tensorflow.keras.models import Sequential\n",
    "from tensorflow.keras.layers import Conv2D, MaxPool2D, Flatten, Dense\n",
    "from tensorflow.keras.callbacks import EarlyStopping, ReduceLROnPlateau\n",
    "from tensorflow.keras.utils import plot_model\n",
    "from sklearn.utils.class_weight import compute_class_weight\n",
    "from tensorflow.keras.callbacks import ModelCheckpoint"
   ]
  },
  {
   "cell_type": "code",
   "execution_count": 2,
   "metadata": {},
   "outputs": [],
   "source": [
    "# Creating ImageDataGenerators\n",
    "image_generator = ImageDataGenerator(\n",
    "    rescale=1./255.,\n",
    "    shear_range=0.1,\n",
    "    zoom_range=0.3,\n",
    ")\n",
    "image_generator_test = ImageDataGenerator(\n",
    "    rescale=1./255.\n",
    ")"
   ]
  },
  {
   "cell_type": "code",
   "execution_count": 3,
   "metadata": {},
   "outputs": [],
   "source": [
    "# Loading training data\n",
    "train_data = image_generator.flow_from_directory(\n",
    "    'data',\n",
    "    target_size=(500, 500), # Image size 500x500\n",
    "    color_mode='grayscale', # Using grayscale images\n",
    "    class_mode='binary', # Binary classification\n",
    "    batch_size=50\n",
    ")"
   ]
  },
  {
   "cell_type": "code",
   "execution_count": 4,
   "metadata": {},
   "outputs": [],
   "source": [
    "# Loading testing data\n",
    "test_data = image_generator_test.flow_from_directory(\n",
    "    'test_data',\n",
    "    target_size=(500, 500),\n",
    "    color_mode='grayscale',\n",
    "    class_mode='binary',\n",
    "    batch_size=50\n",
    ")"
   ]
  },
  {
   "cell_type": "code",
   "execution_count": 5,
   "metadata": {},
   "outputs": [],
   "source": [
    "# Building the model architecture\n",
    "model = Sequential()\n",
    "model.add(Conv2D(32, (3, 3), activation='relu', input_shape=(500, 500, 1)))\n",
    "model.add(MaxPool2D(pool_size=(2, 2)))\n",
    "model.add(Conv2D(32, (3, 3), activation='relu'))\n",
    "model.add(MaxPool2D(pool_size=(2, 2)))\n",
    "model.add(Conv2D(64, (3, 3), activation='relu'))\n",
    "model.add(MaxPool2D(pool_size=(2, 2)))\n",
    "model.add(Conv2D(64, (3, 3), activation='relu'))\n",
    "model.add(MaxPool2D(pool_size=(2, 2)))\n",
    "model.add(Flatten())\n",
    "model.add(Dense(128, activation='relu'))\n",
    "model.add(Dense(64, activation='relu'))\n",
    "model.add(Dense(1, activation='sigmoid'))"
   ]
  },
  {
   "cell_type": "code",
   "execution_count": 6,
   "metadata": {},
   "outputs": [],
   "source": [
    "# Compiling the model\n",
    "model.compile(optimizer='adam', loss='binary_crossentropy', metrics=['accuracy'])"
   ]
  },
  {
   "cell_type": "code",
   "execution_count": 7,
   "metadata": {},
   "outputs": [],
   "source": [
    "# Displaying the model architecture\n",
    "plot_model(model, show_shapes=True, show_layer_names=False)"
   ]
  },
  {
   "cell_type": "code",
   "execution_count": 8,
   "metadata": {},
   "outputs": [],
   "source": [
    "# Calculating class weights\n",
    "# because we have low image --> we can set weight to classes --> because we have class 1 more than class 0 --> we set hight weight to class 0  \n",
    "weights = compute_class_weight('balanced', np.unique(train_data.classes), train_data.classes)\n",
    "class_weights = dict(zip(np.unique(train_data.classes), weights))"
   ]
  },
  {
   "cell_type": "code",
   "execution_count": 9,
   "metadata": {},
   "outputs": [],
   "source": [
    "# Displaying the calculated class weights\n",
    "class_weights"
   ]
  },
  {
   "cell_type": "code",
   "execution_count": null,
   "metadata": {},
   "outputs": [],
   "source": [
    "# Setting up Early Stopping\n",
    "# it code check model step by step and when loss does't decrease or doesn't much differend --> stop model (based on val_loss, mode='min'= we need min of val_loss, patience=3 how many step patience if val_loss doesn;t decrese )\n",
    "es = EarlyStopping(monitor='val_loss', mode='min', patience=3) # Monitoring validation loss and stopping when it doesn't decrease\n",
    "# Setting up Reduce Learning Rate on Plateau\n",
    "# we use this for example if val_loss does't decrease or doesn't much differend --> don't update the weights\n",
    "rlrop = ReduceLROnPlateau(monitor='val_loss', patience=2, factor=0.2, min_lr=0.001) # Reducing learning rate when validation loss doesn't decrease\n",
    "# Setting up Model Checkpoint\n",
    " # if we want find best mode ( for example each epoch that have min val_loss --> save it for me) in each epoch and save that epoch to a file\n",
    "mch = ModelCheckpoint('chestxray.h5', monitor='val_loss', mode='min', save_best_only=True) # Saving the best model based on validation loss"
   ]
  },
  {
   "cell_type": "code",
   "execution_count": 11,
   "metadata": {},
   "outputs": [],
   "source": [
    "# Training the model\n",
    "history = model.fit_generator(train_data, steps_per_epoch=len(train_data), epochs=30, validation_data=test_data, validation_steps=len(train_data), callbacks=[es, rlrop, mch], class_weight=class_weights)"
   ]
  },
  {
   "cell_type": "code",
   "execution_count": 12,
   "metadata": {},
   "outputs": [],
   "source": [
    "# Plotting training and validation accuracy\n",
    "plt.plot(history.history['accuracy'], color='blue') # Plotting training accuracy\n",
    "plt.plot(history.history['val_accuracy'], color='green') # Plotting validation accuracy"
   ]
  },
  {
   "cell_type": "code",
   "execution_count": 13,
   "metadata": {},
   "outputs": [],
   "source": [
    "# Plotting training and validation loss\n",
    "plt.plot(history.history['loss'], color='blue') # Plotting training loss\n",
    "plt.plot(history.history['val_loss'], color='green') # Plotting validation loss"
   ]
  }
 ],
 "metadata": {
  "kernelspec": {
   "display_name": "Python 3",
   "language": "python",
   "name": "python3"
  },
  "language_info": {
   "codemirror_mode": {
    "name": "ipython",
    "version": 3
   },
   "file_extension": ".py",
   "mimetype": "text/x-python",
   "name": "python",
   "nbconvert_exporter": "python",
   "pygments_lexer": "ipython3",
   "version": "3.7.10"
  }
 },
 "nbformat": 4,
 "nbformat_minor": 5
}
