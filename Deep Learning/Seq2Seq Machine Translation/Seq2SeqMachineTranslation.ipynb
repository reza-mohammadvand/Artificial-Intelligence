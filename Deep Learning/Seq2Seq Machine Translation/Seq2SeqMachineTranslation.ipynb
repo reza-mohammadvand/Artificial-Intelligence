{
 "cells": [
  {
   "cell_type": "code",
   "metadata": {},
   "execution_count": 1,
   "source": [
    "# Importing necessary libraries\n",
    "from random import seed, randint\n",
    "from numpy import array, argmax\n",
    "from math import ceil, log10\n",
    "from tensorflow.keras.models import Sequential\n",
    "from tensorflow.keras.layers import Dense, LSTM, TimeDistributed, RepeatVector\n"
   ]
  },
  {
   "cell_type": "code",
   "metadata": {},
   "execution_count": 2,
   "source": [
    "def random_sum_pairs(n_examples, n_numbers, largest): # Define a function to create random sum pairs\n",
    "    X, y = [], []\n",
    "    for i in range(n_examples): # Loop through the number of examples\n",
    "        # Generate random numbers for the input pattern\n",
    "        in_pattern = [randint(1, largest) for _ in range(n_numbers)]\n",
    "        # Calculate the output pattern by summing the input pattern\n",
    "        out_pattern = sum(in_pattern)\n",
    "        X.append(in_pattern) # Append the input pattern to X\n",
    "        y.append(out_pattern) # Append the output pattern to y\n",
    "    return X, y\n"
   ]
  },
  {
   "cell_type": "code",
   "metadata": {},
   "execution_count": 3,
   "source": [
    "# Generate random sum pairs\n",
    "X, y = random_sum_pairs(100, 4, 20) # Call the function to generate 100 examples with 4 numbers up to 20\n",
    "print(X) # Print the input patterns\n",
    "print(y) # Print the output patterns"
   ]
  },
  {
   "cell_type": "code",
   "metadata": {},
   "execution_count": 4,
   "source": [
    "# Calculate the maximum length required for input and output sequences\n",
    "ceil(log10(20+1))"
   ]
  },
  {
   "cell_type": "code",
   "metadata": {},
   "execution_count": 5,
   "source": [
    "def pairs_to_string(X, y, n_numbers, largest): # Define a function to convert pairs to string\n",
    "    max_length = n_numbers * ceil(log10(largest+1)) + n_numbers - 1 # Calculate the maximum length\n",
    "    Xstr = []\n",
    "    # Convert input patterns to string\n",
    "    for p in X:\n",
    "        strp = '+'.join([str(n) for n in p]) # Join the numbers with '+'\n",
    "        strp = ''.join([' ' for _ in range(max_length - len(strp))]) + strp # Add padding\n",
    "        Xstr.append(strp) # Append to Xstr\n",
    "    max_length = ceil(log10(n_numbers * (largest+1))) # Calculate the maximum length for output\n",
    "    ystr = []\n",
    "    # Convert output patterns to string\n",
    "    for p in y:\n",
    "        strp = str(p)\n",
    "        strp = ''.join([' ' for _ in range(max_length - len(strp))]) + strp # Add padding\n",
    "        ystr.append(strp) # Append to ystr\n",
    "    return Xstr, ystr\n"
   ]
  },
  {
   "cell_type": "code",
   "metadata": {},
   "execution_count": 6,
   "source": [
    "# Convert pairs to string\n",
    "pairs_to_string(X, y, 4, 20)"
   ]
  },
  {
   "cell_type": "code",
   "metadata": {},
   "execution_count": 7,
   "source": [
    "# Extract X and y strings\n",
    "Xstr, ystr = pairs_to_string(X, y, 4, 20)"
   ]
  },
  {
   "cell_type": "code",
   "metadata": {},
   "execution_count": 8,
   "source": [
    "def integer_encode(X, y, alphabets): # Define a function to encode strings into integers\n",
    "    char_to_int = dict((c, i) for i, c in enumerate(alphabets)) # Create character to integer mapping\n",
    "    Xenc = []\n",
    "    # Encode X strings\n",
    "    for p in X:\n",
    "        integer_encoded = [char_to_int[char] for char in p] # Map characters to integers\n",
    "        Xenc.append(integer_encoded) # Append to Xenc\n",
    "    yenc = []\n",
    "    # Encode y strings\n",
    "    for p in y:\n",
    "        integer_encoded = [char_to_int[char] for char in p] # Map characters to integers\n",
    "        yenc.append(integer_encoded) # Append to yenc\n",
    "    return Xenc, yenc\n"
   ]
  },
  {
   "cell_type": "code",
   "metadata": {},
   "execution_count": 9,
   "source": [
    "# Integer encode X and y strings\n",
    "integer_encode(Xstr, ystr, ['1', '2', '3', '4', '5', '6', '7', '8', '9', '0', ' ', '+'])"
   ]
  },
  {
   "cell_type": "code",
   "metadata": {},
   "execution_count": 10,
   "source": [
    "def one_hot_encode(X, y, max_int): # Define a function to perform one-hot encoding\n",
    "    Xenc = []\n",
    "    # One-hot encode X\n",
    "    for p in X:\n",
    "        pattern = []\n",
    "        for index in p:\n",
    "            vector = [0 for _ in range(max_int)] # Create zero vector\n",
    "            vector[index] = 1 # Set appropriate index to 1\n",
    "            pattern.append(vector) # Append to pattern\n",
    "        Xenc.append(pattern) # Append to Xenc\n",
    "    yenc = []\n",
    "    # One-hot encode y\n",
    "    for p in y:\n",
    "        pattern = []\n",
    "        for index in p:\n",
    "            vector = [0 for _ in range(max_int)] # Create zero vector\n",
    "            vector[index] = 1 # Set appropriate index to 1\n",
    "            pattern.append(vector) # Append to pattern\n",
    "        yenc.append(pattern) # Append to yenc\n",
    "    return Xenc, yenc\n"
   ]
  },
  {
   "cell_type": "code",
   "metadata": {},
   "execution_count": 11,
   "source": [
    "def generate_data(n_samples, n_numbers, largest, alphabets): # Define a function to generate data\n",
    "    X, y = random_sum_pairs(n_samples, n_numbers, largest) # Generate random sum pairs\n",
    "    X, y = pairs_to_string(X, y, n_numbers, largest) # Convert pairs to string\n",
    "    X, y = integer_encode(X, y, alphabets) # Integer encode strings\n",
    "    X, y = one_hot_encode(X, y, len(alphabets)) # One-hot encode strings\n",
    "    X, y = array(X), array(y) # Convert to numpy arrays\n",
    "    return X, y\n"
   ]
  },
  {
   "cell_type": "code",
   "metadata": {},
   "execution_count": 12,
   "source": [
    "# Define a function to decode integer sequences to strings\n",
    "def integer_decode(seq, alphabets):\n",
    "    int_to_char = dict((i, c) for i, c in enumerate(alphabets)) # Create integer to character mapping\n",
    "    strings = []\n",
    "    # Decode integer sequences\n",
    "    for p in seq:\n",
    "        string = int_to_char[argmax(p)] # Get corresponding character for the maximum value\n",
    "        strings.append(string) # Append to strings\n",
    "    return ''.join(strings) # Concatenate strings\n"
   ]
  },
  {
   "cell_type": "code",
   "metadata": {},
   "execution_count": 13,
   "source": [
    "# Set random seed and define parameters\n",
    "seed(1)\n",
    "n_samples = 1000\n",
    "n_numbers = 3\n",
    "largest = 20\n",
    "alphabets = ['1', '2', '3', '4', '5', '6', '7', '8', '9', '0', ' ', '+']\n",
    "n_chars = len(alphabets)\n",
    "n_in_seq_length = n_numbers * ceil(log10(largest+1)) + n_numbers - 1\n",
    "n_out_seq_length = ceil(log10(n_numbers * (largest+1)))\n"
   ]
  },
  {
   "cell_type": "code",
   "metadata": {},
   "execution_count": 14,
   "source": [
    "# Generate data\n",
    "X, y = generate_data(n_samples, n_numbers, largest, alphabets)\n"
   ]
  },
  {
   "cell_type": "code",
   "metadata": {},
   "execution_count": 15,
   "source": [
    "# Define the model architecture\n",
    "model = Sequential()\n",
    "model.add(LSTM(128, input_shape=(n_in_seq_length, n_chars)))\n",
    "model.add(RepeatVector(n_out_seq_length))\n",
    "model.add(LSTM(64, return_sequences=True))\n",
    "model.add(TimeDistributed(Dense(n_chars, activation='softmax')))\n"
   ]
  },
  {
   "cell_type": "code",
   "metadata": {},
   "execution_count": 16,
   "source": [
    "# Compile the model\n",
    "model.compile(loss='categorical_crossentropy', optimizer='adam', metrics=['accuracy'])\n"
   ]
  },
  {
   "cell_type": "code",
   "metadata": {},
   "execution_count": 17,
   "source": [
    "# Train the model\n",
    "for i in range(200):\n",
    "    X, y = generate_data(n_samples, n_numbers, largest, alphabets)\n",
    "    print('Epoch: ', i)\n",
    "    model.fit(X, y, epochs=5, batch_size=50)\n"
   ]
  },
  {
   "cell_type": "code",
   "metadata": {},
   "execution_count": 18,
   "source": [
    "# Generate data for evaluation\n",
    "X, y = generate_data(n_samples, n_numbers, largest, alphabets)\n",
    "# Predict the output\n",
    "result = model.predict(X, batch_size=50)\n"
   ]
  },
  {
   "cell_type": "code",
   "metadata": {},
   "execution_count": 19,
   "source": [
    "# Decode the predicted and expected outputs\n",
    "expected = [integer_decode(y1, alphabets) for y1 in y]\n",
    "predicted = [integer_decode(y1, alphabets) for y1 in result]\n"
   ]
  },
  {
   "cell_type": "code",
   "metadata": {},
   "execution_count": 20,
   "source": [
    "# Calculate the absolute difference between expected and predicted outputs\n",
    "import numpy as np\n",
    "error_rate = np.abs(np.array(expected, dtype='int') - np.array(predicted, dtype='int')).sum() / len(expected)\n",
    "error_rate # Print the error rate\n"
   ]
  }
 ],
 "metadata": {
  "kernelspec": {
   "display_name": "Python 3",
   "language": "python",
   "name": "python3"
  },
  "language_info": {
   "codemirror_mode": {
    "name": "ipython",
    "version": 3
   },
   "file_extension": ".py",
   "mimetype": "text/x-python",
   "name": "python",
   "nbconvert_exporter": "python",
   "pygments_lexer": "ipython3",
   "version": "3.7.10"
  }
 },
 "nbformat": 4,
 "nbformat_minor": 5
}
